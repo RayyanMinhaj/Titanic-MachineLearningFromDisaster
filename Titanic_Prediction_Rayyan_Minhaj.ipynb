{
  "nbformat": 4,
  "nbformat_minor": 0,
  "metadata": {
    "colab": {
      "provenance": []
    },
    "kernelspec": {
      "name": "python3",
      "display_name": "Python 3"
    },
    "language_info": {
      "name": "python"
    }
  },
  "cells": [
    {
      "cell_type": "markdown",
      "source": [
        "# Rayyan Minhaj (20K-0143 | BCS-8B)\n",
        "## DLP LAB 4 TASK-3 (Titanic Dataset)"
      ],
      "metadata": {
        "id": "34GMeWzrj-ZE"
      }
    },
    {
      "cell_type": "code",
      "execution_count": 1,
      "metadata": {
        "id": "-ACtijfij9G1"
      },
      "outputs": [],
      "source": [
        "from keras.models import Sequential\n",
        "from keras.layers import Dense\n",
        "from keras.utils import plot_model\n",
        "import matplotlib.pyplot as plt"
      ]
    },
    {
      "cell_type": "markdown",
      "source": [
        "#Model Architecture"
      ],
      "metadata": {
        "id": "Y0qH-tuslAhj"
      }
    },
    {
      "cell_type": "code",
      "source": [
        "#trying with same architecture as Q1(ii)\n",
        "\n",
        "model=Sequential()\n",
        "model.add(Dense(6, input_shape=(7, ), name='H1_6N'))\n",
        "model.add(Dense(100, name='H1_100N',activation='relu'))\n",
        "model.add(Dense(500, name='H2_500N',activation='relu'))\n",
        "model.add(Dense(200, name='H3_200N',activation='relu'))\n",
        "model.add(Dense(50, name='H4_50N',activation='relu'))\n",
        "model.add(Dense(1, name='O/P_1N',activation=\"sigmoid\"))\n",
        "\n",
        "model.compile(optimizer='adam', loss='binary_crossentropy', metrics='accuracy')\n",
        "model.summary()\n",
        "\n",
        "\n",
        "# # Plot the model\n",
        "plot_model(model, to_file='model.png')\n",
        "# # Display the image\n",
        "data = plt.imread('model.png')\n",
        "plt.imshow(data)\n",
        "plt.show()"
      ],
      "metadata": {
        "colab": {
          "base_uri": "https://localhost:8080/",
          "height": 799
        },
        "id": "yQf8kxwTkDSU",
        "outputId": "28b7a6b0-1c19-418a-b97e-b4e7f16c2daf"
      },
      "execution_count": 42,
      "outputs": [
        {
          "output_type": "stream",
          "name": "stdout",
          "text": [
            "Model: \"sequential_1\"\n",
            "_________________________________________________________________\n",
            " Layer (type)                Output Shape              Param #   \n",
            "=================================================================\n",
            " H1_6N (Dense)               (None, 6)                 48        \n",
            "                                                                 \n",
            " H1_100N (Dense)             (None, 100)               700       \n",
            "                                                                 \n",
            " H2_500N (Dense)             (None, 500)               50500     \n",
            "                                                                 \n",
            " H3_200N (Dense)             (None, 200)               100200    \n",
            "                                                                 \n",
            " H4_50N (Dense)              (None, 50)                10050     \n",
            "                                                                 \n",
            " O/P_1N (Dense)              (None, 1)                 51        \n",
            "                                                                 \n",
            "=================================================================\n",
            "Total params: 161549 (631.05 KB)\n",
            "Trainable params: 161549 (631.05 KB)\n",
            "Non-trainable params: 0 (0.00 Byte)\n",
            "_________________________________________________________________\n"
          ]
        },
        {
          "output_type": "display_data",
          "data": {
            "text/plain": [
              "<Figure size 640x480 with 1 Axes>"
            ],
            "image/png": "[encoded data removed]"
          },
          "metadata": {}
        }
      ]
    },
    {
      "cell_type": "code",
      "source": [
        "import pandas as pd\n",
        "\n",
        "train_df = pd.read_csv('train.csv')\n",
        "test_df = pd.read_csv('test.csv')\n"
      ],
      "metadata": {
        "id": "o6eBzvVrkFxz"
      },
      "execution_count": 3,
      "outputs": []
    },
    {
      "cell_type": "markdown",
      "source": [
        "# Data Preprocessing"
      ],
      "metadata": {
        "id": "WT2oD-grkMRD"
      }
    },
    {
      "cell_type": "code",
      "source": [
        "train_df['Sex'] = train_df['Sex'].replace({'male':0, 'female':1})\n",
        "test_df['Sex'] = test_df['Sex'].replace({'male':0, 'female':1})\n",
        "\n"
      ],
      "metadata": {
        "id": "NLgIj23vkK8V"
      },
      "execution_count": 4,
      "outputs": []
    },
    {
      "cell_type": "code",
      "source": [
        "train_df['Embarked'] = train_df['Embarked'].replace({'C':0, 'Q':1, 'S':2})\n",
        "test_df['Embarked'] = test_df['Embarked'].replace({'C':0, 'Q':1, 'S':2})\n"
      ],
      "metadata": {
        "id": "eMWfgyEOkXQt"
      },
      "execution_count": 7,
      "outputs": []
    },
    {
      "cell_type": "code",
      "source": [
        "embarked_median=train_df['Embarked'].median()\n",
        "train_df['Embarked'].fillna(embarked_median, inplace=True)"
      ],
      "metadata": {
        "id": "Wy8sYW5kn_S5"
      },
      "execution_count": 34,
      "outputs": []
    },
    {
      "cell_type": "code",
      "source": [
        "train_mean_age = train_df['Age'].mean()\n",
        "train_df['Age'].fillna(train_mean_age,inplace=True)\n",
        "\n",
        "test_mean_age = test_df['Age'].mean()\n",
        "test_df['Age'].fillna(test_mean_age,inplace=True)\n"
      ],
      "metadata": {
        "id": "IsRXftqSkgiD"
      },
      "execution_count": 8,
      "outputs": []
    },
    {
      "cell_type": "code",
      "source": [],
      "metadata": {
        "id": "fTBj-T-7ny4Z"
      },
      "execution_count": null,
      "outputs": []
    },
    {
      "cell_type": "code",
      "source": [
        "test_mean_fare = test_df['Fare'].mean()\n",
        "test_df['Fare'].fillna(test_mean_fare, inplace=True)"
      ],
      "metadata": {
        "id": "XZNT2jTknaT6"
      },
      "execution_count": 25,
      "outputs": []
    },
    {
      "cell_type": "code",
      "source": [
        "print(train_df.isnull().sum())"
      ],
      "metadata": {
        "colab": {
          "base_uri": "https://localhost:8080/"
        },
        "id": "5C_Yn3xFn82Z",
        "outputId": "b4eae6a3-ee0f-4480-f13d-26592bced090"
      },
      "execution_count": 35,
      "outputs": [
        {
          "output_type": "stream",
          "name": "stdout",
          "text": [
            "PassengerId      0\n",
            "Survived         0\n",
            "Pclass           0\n",
            "Name             0\n",
            "Sex              0\n",
            "Age              0\n",
            "SibSp            0\n",
            "Parch            0\n",
            "Ticket           0\n",
            "Fare             0\n",
            "Cabin          687\n",
            "Embarked         0\n",
            "dtype: int64\n"
          ]
        }
      ]
    },
    {
      "cell_type": "code",
      "source": [
        "print(test_df.isnull().sum())"
      ],
      "metadata": {
        "colab": {
          "base_uri": "https://localhost:8080/"
        },
        "id": "LoziCku0nnET",
        "outputId": "0c1012e2-ac37-4f9a-c79d-636a8e56eee0"
      },
      "execution_count": 32,
      "outputs": [
        {
          "output_type": "stream",
          "name": "stdout",
          "text": [
            "PassengerId      0\n",
            "Pclass           0\n",
            "Name             0\n",
            "Sex              0\n",
            "Age              0\n",
            "SibSp            0\n",
            "Parch            0\n",
            "Ticket           0\n",
            "Fare             0\n",
            "Cabin          327\n",
            "Embarked         0\n",
            "dtype: int64\n"
          ]
        }
      ]
    },
    {
      "cell_type": "code",
      "source": [
        "test_df.describe()"
      ],
      "metadata": {
        "id": "H-KZF_9gktKB"
      },
      "execution_count": null,
      "outputs": []
    },
    {
      "cell_type": "code",
      "source": [
        "train_df.describe()"
      ],
      "metadata": {
        "id": "0uvWbcIJkuls"
      },
      "execution_count": null,
      "outputs": []
    },
    {
      "cell_type": "markdown",
      "source": [
        "# Model Training"
      ],
      "metadata": {
        "id": "Kc6tCYxrlFkD"
      }
    },
    {
      "cell_type": "code",
      "source": [
        "from sklearn.model_selection import train_test_split\n",
        "\n",
        "X_train=train_df[['Pclass','Sex','Age','SibSp','Parch','Fare','Embarked']]\n",
        "y_train=train_df[['Survived']]\n",
        "\n",
        "\n",
        "X_test=test_df[['Pclass','Sex','Age','SibSp','Parch','Fare','Embarked']]\n",
        ""
      ],
      "metadata": {
        "id": "Lf9MJbtflGuB"
      },
      "execution_count": 36,
      "outputs": []
    },
    {
      "cell_type": "code",
      "source": [
        "model.fit(X_train, y_train,\n",
        "          epochs=50,\n",
        "          batch_size=32,\n",
        "          validation_split=.10,\n",
        "          verbose=True)"
      ],
      "metadata": {
        "colab": {
          "base_uri": "https://localhost:8080/"
        },
        "id": "RqLL2Ed8lRHt",
        "outputId": "b229bba0-76fa-46c0-9d42-075ee94dbc10"
      },
      "execution_count": 43,
      "outputs": [
        {
          "output_type": "stream",
          "name": "stdout",
          "text": [
            "Epoch 1/50\n",
            "26/26 [==============================] - 2s 14ms/step - loss: 0.7822 - accuracy: 0.6380 - val_loss: 0.6485 - val_accuracy: 0.6333\n",
            "Epoch 2/50\n",
            "26/26 [==============================] - 0s 7ms/step - loss: 0.7228 - accuracy: 0.6479 - val_loss: 0.6365 - val_accuracy: 0.6667\n",
            "Epoch 3/50\n",
            "26/26 [==============================] - 0s 7ms/step - loss: 0.6372 - accuracy: 0.6604 - val_loss: 0.5943 - val_accuracy: 0.7333\n",
            "Epoch 4/50\n",
            "26/26 [==============================] - 0s 7ms/step - loss: 0.6599 - accuracy: 0.6255 - val_loss: 0.5608 - val_accuracy: 0.7000\n",
            "Epoch 5/50\n",
            "26/26 [==============================] - 0s 7ms/step - loss: 0.6333 - accuracy: 0.6467 - val_loss: 0.5818 - val_accuracy: 0.7444\n",
            "Epoch 6/50\n",
            "26/26 [==============================] - 0s 8ms/step - loss: 0.6158 - accuracy: 0.6929 - val_loss: 0.6039 - val_accuracy: 0.6556\n",
            "Epoch 7/50\n",
            "26/26 [==============================] - 0s 7ms/step - loss: 0.6137 - accuracy: 0.6816 - val_loss: 0.5552 - val_accuracy: 0.7222\n",
            "Epoch 8/50\n",
            "26/26 [==============================] - 0s 7ms/step - loss: 0.5987 - accuracy: 0.6979 - val_loss: 0.5492 - val_accuracy: 0.7444\n",
            "Epoch 9/50\n",
            "26/26 [==============================] - 0s 7ms/step - loss: 0.5942 - accuracy: 0.6841 - val_loss: 0.5587 - val_accuracy: 0.6667\n",
            "Epoch 10/50\n",
            "26/26 [==============================] - 0s 7ms/step - loss: 0.6009 - accuracy: 0.6816 - val_loss: 0.6162 - val_accuracy: 0.6778\n",
            "Epoch 11/50\n",
            "26/26 [==============================] - 0s 9ms/step - loss: 0.6410 - accuracy: 0.6367 - val_loss: 0.5211 - val_accuracy: 0.7444\n",
            "Epoch 12/50\n",
            "26/26 [==============================] - 0s 12ms/step - loss: 0.5788 - accuracy: 0.7066 - val_loss: 0.5050 - val_accuracy: 0.7556\n",
            "Epoch 13/50\n",
            "26/26 [==============================] - 0s 11ms/step - loss: 0.6008 - accuracy: 0.6879 - val_loss: 0.5350 - val_accuracy: 0.7556\n",
            "Epoch 14/50\n",
            "26/26 [==============================] - 0s 11ms/step - loss: 0.6188 - accuracy: 0.6879 - val_loss: 0.5156 - val_accuracy: 0.7333\n",
            "Epoch 15/50\n",
            "26/26 [==============================] - 0s 11ms/step - loss: 0.5827 - accuracy: 0.6929 - val_loss: 0.5032 - val_accuracy: 0.7778\n",
            "Epoch 16/50\n",
            "26/26 [==============================] - 0s 11ms/step - loss: 0.5582 - accuracy: 0.7291 - val_loss: 0.5152 - val_accuracy: 0.7556\n",
            "Epoch 17/50\n",
            "26/26 [==============================] - 0s 12ms/step - loss: 0.5827 - accuracy: 0.7253 - val_loss: 0.4661 - val_accuracy: 0.7778\n",
            "Epoch 18/50\n",
            "26/26 [==============================] - 0s 12ms/step - loss: 0.5425 - accuracy: 0.7141 - val_loss: 0.4443 - val_accuracy: 0.8222\n",
            "Epoch 19/50\n",
            "26/26 [==============================] - 0s 12ms/step - loss: 0.5450 - accuracy: 0.7316 - val_loss: 0.4455 - val_accuracy: 0.8889\n",
            "Epoch 20/50\n",
            "26/26 [==============================] - 0s 7ms/step - loss: 0.5615 - accuracy: 0.7191 - val_loss: 0.4306 - val_accuracy: 0.8222\n",
            "Epoch 21/50\n",
            "26/26 [==============================] - 0s 7ms/step - loss: 0.5513 - accuracy: 0.7428 - val_loss: 0.4127 - val_accuracy: 0.8000\n",
            "Epoch 22/50\n",
            "26/26 [==============================] - 0s 6ms/step - loss: 0.5522 - accuracy: 0.7366 - val_loss: 0.4113 - val_accuracy: 0.8667\n",
            "Epoch 23/50\n",
            "26/26 [==============================] - 0s 6ms/step - loss: 0.5051 - accuracy: 0.7615 - val_loss: 0.5185 - val_accuracy: 0.7222\n",
            "Epoch 24/50\n",
            "26/26 [==============================] - 0s 8ms/step - loss: 0.5417 - accuracy: 0.7491 - val_loss: 0.4257 - val_accuracy: 0.8222\n",
            "Epoch 25/50\n",
            "26/26 [==============================] - 0s 7ms/step - loss: 0.5553 - accuracy: 0.7291 - val_loss: 0.4351 - val_accuracy: 0.7778\n",
            "Epoch 26/50\n",
            "26/26 [==============================] - 0s 6ms/step - loss: 0.5000 - accuracy: 0.7591 - val_loss: 0.4227 - val_accuracy: 0.8000\n",
            "Epoch 27/50\n",
            "26/26 [==============================] - 0s 7ms/step - loss: 0.5659 - accuracy: 0.7303 - val_loss: 0.4585 - val_accuracy: 0.7778\n",
            "Epoch 28/50\n",
            "26/26 [==============================] - 0s 7ms/step - loss: 0.5179 - accuracy: 0.7615 - val_loss: 0.3908 - val_accuracy: 0.8444\n",
            "Epoch 29/50\n",
            "26/26 [==============================] - 0s 6ms/step - loss: 0.5055 - accuracy: 0.7690 - val_loss: 0.3918 - val_accuracy: 0.8444\n",
            "Epoch 30/50\n",
            "26/26 [==============================] - 0s 8ms/step - loss: 0.4661 - accuracy: 0.7828 - val_loss: 0.4094 - val_accuracy: 0.8556\n",
            "Epoch 31/50\n",
            "26/26 [==============================] - 0s 6ms/step - loss: 0.5292 - accuracy: 0.7403 - val_loss: 0.4001 - val_accuracy: 0.8556\n",
            "Epoch 32/50\n",
            "26/26 [==============================] - 0s 7ms/step - loss: 0.4733 - accuracy: 0.7740 - val_loss: 0.3570 - val_accuracy: 0.8444\n",
            "Epoch 33/50\n",
            "26/26 [==============================] - 0s 7ms/step - loss: 0.4541 - accuracy: 0.7953 - val_loss: 0.3475 - val_accuracy: 0.8889\n",
            "Epoch 34/50\n",
            "26/26 [==============================] - 0s 7ms/step - loss: 0.4848 - accuracy: 0.7665 - val_loss: 0.3501 - val_accuracy: 0.8667\n",
            "Epoch 35/50\n",
            "26/26 [==============================] - 0s 7ms/step - loss: 0.4678 - accuracy: 0.7878 - val_loss: 0.3690 - val_accuracy: 0.8444\n",
            "Epoch 36/50\n",
            "26/26 [==============================] - 0s 7ms/step - loss: 0.4724 - accuracy: 0.7865 - val_loss: 0.3804 - val_accuracy: 0.8444\n",
            "Epoch 37/50\n",
            "26/26 [==============================] - 0s 7ms/step - loss: 0.4481 - accuracy: 0.7990 - val_loss: 0.3581 - val_accuracy: 0.8667\n",
            "Epoch 38/50\n",
            "26/26 [==============================] - 0s 7ms/step - loss: 0.4645 - accuracy: 0.7890 - val_loss: 0.3545 - val_accuracy: 0.8444\n",
            "Epoch 39/50\n",
            "26/26 [==============================] - 0s 7ms/step - loss: 0.4297 - accuracy: 0.8190 - val_loss: 0.3468 - val_accuracy: 0.8556\n",
            "Epoch 40/50\n",
            "26/26 [==============================] - 0s 7ms/step - loss: 0.4218 - accuracy: 0.8177 - val_loss: 0.3483 - val_accuracy: 0.8556\n",
            "Epoch 41/50\n",
            "26/26 [==============================] - 0s 8ms/step - loss: 0.4435 - accuracy: 0.8040 - val_loss: 0.3413 - val_accuracy: 0.8667\n",
            "Epoch 42/50\n",
            "26/26 [==============================] - 0s 7ms/step - loss: 0.5050 - accuracy: 0.7790 - val_loss: 0.3737 - val_accuracy: 0.8667\n",
            "Epoch 43/50\n",
            "26/26 [==============================] - 0s 7ms/step - loss: 0.4377 - accuracy: 0.8077 - val_loss: 0.3529 - val_accuracy: 0.8667\n",
            "Epoch 44/50\n",
            "26/26 [==============================] - 0s 7ms/step - loss: 0.4794 - accuracy: 0.7865 - val_loss: 0.3913 - val_accuracy: 0.8778\n",
            "Epoch 45/50\n",
            "26/26 [==============================] - 0s 7ms/step - loss: 0.4385 - accuracy: 0.8027 - val_loss: 0.3431 - val_accuracy: 0.8444\n",
            "Epoch 46/50\n",
            "26/26 [==============================] - 0s 8ms/step - loss: 0.4311 - accuracy: 0.8165 - val_loss: 0.3551 - val_accuracy: 0.8444\n",
            "Epoch 47/50\n",
            "26/26 [==============================] - 0s 7ms/step - loss: 0.4408 - accuracy: 0.8002 - val_loss: 0.3554 - val_accuracy: 0.8444\n",
            "Epoch 48/50\n",
            "26/26 [==============================] - 0s 7ms/step - loss: 0.4225 - accuracy: 0.8202 - val_loss: 0.3478 - val_accuracy: 0.8667\n",
            "Epoch 49/50\n",
            "26/26 [==============================] - 0s 7ms/step - loss: 0.4312 - accuracy: 0.8002 - val_loss: 0.3632 - val_accuracy: 0.8333\n",
            "Epoch 50/50\n",
            "26/26 [==============================] - 0s 7ms/step - loss: 0.4252 - accuracy: 0.8065 - val_loss: 0.3618 - val_accuracy: 0.8222\n"
          ]
        },
        {
          "output_type": "execute_result",
          "data": {
            "text/plain": [
              "<keras.src.callbacks.History at 0x79271cf190c0>"
            ]
          },
          "metadata": {},
          "execution_count": 43
        }
      ]
    },
    {
      "cell_type": "code",
      "source": [
        "model.evaluate(X_train, y_train)"
      ],
      "metadata": {
        "colab": {
          "base_uri": "https://localhost:8080/"
        },
        "id": "X97AbKpEmIJ0",
        "outputId": "b236bdb7-8797-49e3-99bb-d24f7e8d4a84"
      },
      "execution_count": 46,
      "outputs": [
        {
          "output_type": "stream",
          "name": "stdout",
          "text": [
            "28/28 [==============================] - 0s 2ms/step - loss: 0.4310 - accuracy: 0.8036\n"
          ]
        },
        {
          "output_type": "execute_result",
          "data": {
            "text/plain": [
              "[0.43103480339050293, 0.8035914897918701]"
            ]
          },
          "metadata": {},
          "execution_count": 46
        }
      ]
    },
    {
      "cell_type": "markdown",
      "source": [
        "###80% accuracy achieved and loss = 0.4310"
      ],
      "metadata": {
        "id": "9UujibWGs7R-"
      }
    },
    {
      "cell_type": "code",
      "source": [
        "predictions = model.predict(X_test)"
      ],
      "metadata": {
        "colab": {
          "base_uri": "https://localhost:8080/"
        },
        "id": "sAIGhBQJlvqf",
        "outputId": "0ece1913-cc62-4ae8-e94c-2abaa3e5111c"
      },
      "execution_count": 44,
      "outputs": [
        {
          "output_type": "stream",
          "name": "stdout",
          "text": [
            "14/14 [==============================] - 0s 2ms/step\n"
          ]
        }
      ]
    },
    {
      "cell_type": "code",
      "source": [
        "print(predictions)"
      ],
      "metadata": {
        "colab": {
          "base_uri": "https://localhost:8080/"
        },
        "id": "KXe2AYsGl2-M",
        "outputId": "bd620922-9e8a-4aca-aee4-68900e21031a"
      },
      "execution_count": 45,
      "outputs": [
        {
          "output_type": "stream",
          "name": "stdout",
          "text": [
            "[[0.07272808]\n",
            " [0.17834638]\n",
            " [0.04008763]\n",
            " [0.08514803]\n",
            " [0.4085881 ]\n",
            " [0.21980362]\n",
            " [0.4812035 ]\n",
            " [0.13612454]\n",
            " [0.7430924 ]\n",
            " [0.09488426]\n",
            " [0.07503214]\n",
            " [0.20315771]\n",
            " [0.84380573]\n",
            " [0.04442376]\n",
            " [0.8069612 ]\n",
            " [0.8128073 ]\n",
            " [0.11769168]\n",
            " [0.13700996]\n",
            " [0.3761468 ]\n",
            " [0.37671894]\n",
            " [0.32431865]\n",
            " [0.96913606]\n",
            " [0.90628517]\n",
            " [0.41695073]\n",
            " [0.40949562]\n",
            " [0.0325149 ]\n",
            " [0.93109745]\n",
            " [0.1302855 ]\n",
            " [0.290316  ]\n",
            " [0.08898506]\n",
            " [0.07014386]\n",
            " [0.14127965]\n",
            " [0.32224333]\n",
            " [0.37865296]\n",
            " [0.3934676 ]\n",
            " [0.14982757]\n",
            " [0.43987787]\n",
            " [0.59531677]\n",
            " [0.0928472 ]\n",
            " [0.1860668 ]\n",
            " [0.06493933]\n",
            " [0.32381642]\n",
            " [0.04916005]\n",
            " [0.7474625 ]\n",
            " [0.8128749 ]\n",
            " [0.09124037]\n",
            " [0.34941444]\n",
            " [0.08582547]\n",
            " [0.8795425 ]\n",
            " [0.3134929 ]\n",
            " [0.3736039 ]\n",
            " [0.19903068]\n",
            " [0.5032962 ]\n",
            " [0.55484617]\n",
            " [0.18241702]\n",
            " [0.10305982]\n",
            " [0.06264914]\n",
            " [0.0909734 ]\n",
            " [0.07148264]\n",
            " [0.6405096 ]\n",
            " [0.13549341]\n",
            " [0.11623841]\n",
            " [0.12581846]\n",
            " [0.63832164]\n",
            " [0.68929225]\n",
            " [0.80194134]\n",
            " [0.7103659 ]\n",
            " [0.32575214]\n",
            " [0.4044863 ]\n",
            " [0.36023024]\n",
            " [0.5873719 ]\n",
            " [0.10832563]\n",
            " [0.4541604 ]\n",
            " [0.41311347]\n",
            " [0.592753  ]\n",
            " [0.3523064 ]\n",
            " [0.07514637]\n",
            " [0.460465  ]\n",
            " [0.12329562]\n",
            " [0.5873719 ]\n",
            " [0.31196326]\n",
            " [0.2880232 ]\n",
            " [0.18246195]\n",
            " [0.07503214]\n",
            " [0.13304584]\n",
            " [0.09315702]\n",
            " [0.5188556 ]\n",
            " [0.6621227 ]\n",
            " [0.4800644 ]\n",
            " [0.93618566]\n",
            " [0.4920163 ]\n",
            " [0.07494327]\n",
            " [0.75155413]\n",
            " [0.07514637]\n",
            " [0.4225204 ]\n",
            " [0.09111558]\n",
            " [0.5216533 ]\n",
            " [0.07859103]\n",
            " [0.60034806]\n",
            " [0.06786962]\n",
            " [0.878982  ]\n",
            " [0.15431036]\n",
            " [0.08582547]\n",
            " [0.08758085]\n",
            " [0.5061264 ]\n",
            " [0.11043206]\n",
            " [0.12034065]\n",
            " [0.08582547]\n",
            " [0.07563993]\n",
            " [0.17930017]\n",
            " [0.12357365]\n",
            " [0.48029837]\n",
            " [0.9129154 ]\n",
            " [0.69946635]\n",
            " [0.5730077 ]\n",
            " [0.14409642]\n",
            " [0.09610083]\n",
            " [0.992504  ]\n",
            " [0.40500095]\n",
            " [0.70364165]\n",
            " [0.8363147 ]\n",
            " [0.07184581]\n",
            " [0.90955293]\n",
            " [0.08096933]\n",
            " [0.08582547]\n",
            " [0.5835351 ]\n",
            " [0.10344137]\n",
            " [0.44373763]\n",
            " [0.07987104]\n",
            " [0.09512406]\n",
            " [0.07051407]\n",
            " [0.26787528]\n",
            " [0.3175751 ]\n",
            " [0.08088057]\n",
            " [0.04536064]\n",
            " [0.09494122]\n",
            " [0.1126974 ]\n",
            " [0.14147142]\n",
            " [0.52728415]\n",
            " [0.02920118]\n",
            " [0.2081373 ]\n",
            " [0.60739475]\n",
            " [0.22543688]\n",
            " [0.19473064]\n",
            " [0.2385153 ]\n",
            " [0.0489283 ]\n",
            " [0.40343314]\n",
            " [0.10357568]\n",
            " [0.32381642]\n",
            " [0.11267893]\n",
            " [0.89792883]\n",
            " [0.09874105]\n",
            " [0.05275203]\n",
            " [0.25980312]\n",
            " [0.07778808]\n",
            " [0.09464265]\n",
            " [0.67694914]\n",
            " [0.5224696 ]\n",
            " [0.23851496]\n",
            " [0.3891022 ]\n",
            " [0.4799305 ]\n",
            " [0.25237724]\n",
            " [0.7949695 ]\n",
            " [0.07439121]\n",
            " [0.08277763]\n",
            " [0.4467709 ]\n",
            " [0.3719889 ]\n",
            " [0.08520595]\n",
            " [0.9173728 ]\n",
            " [0.5765154 ]\n",
            " [0.07477806]\n",
            " [0.11052152]\n",
            " [0.08895387]\n",
            " [0.09747565]\n",
            " [0.02455178]\n",
            " [0.7488993 ]\n",
            " [0.86376804]\n",
            " [0.3224042 ]\n",
            " [0.46318465]\n",
            " [0.6353713 ]\n",
            " [0.12329562]\n",
            " [0.356221  ]\n",
            " [0.9018663 ]\n",
            " [0.08582547]\n",
            " [0.6838916 ]\n",
            " [0.09346043]\n",
            " [0.76801914]\n",
            " [0.10209443]\n",
            " [0.11787234]\n",
            " [0.08578414]\n",
            " [0.12409892]\n",
            " [0.320586  ]\n",
            " [0.18428072]\n",
            " [0.04597937]\n",
            " [0.3152837 ]\n",
            " [0.06770837]\n",
            " [0.62521833]\n",
            " [0.65664554]\n",
            " [0.14883308]\n",
            " [0.44109762]\n",
            " [0.58638155]\n",
            " [0.9792417 ]\n",
            " [0.2997919 ]\n",
            " [0.73792213]\n",
            " [0.13906495]\n",
            " [0.3983444 ]\n",
            " [0.44009736]\n",
            " [0.14393745]\n",
            " [0.9132555 ]\n",
            " [0.09121214]\n",
            " [0.09435548]\n",
            " [0.07442612]\n",
            " [0.262935  ]\n",
            " [0.40163082]\n",
            " [0.07937889]\n",
            " [0.3486306 ]\n",
            " [0.4811026 ]\n",
            " [0.29864582]\n",
            " [0.5250492 ]\n",
            " [0.07514637]\n",
            " [0.7376332 ]\n",
            " [0.10842349]\n",
            " [0.7998406 ]\n",
            " [0.10826867]\n",
            " [0.8482434 ]\n",
            " [0.45359102]\n",
            " [0.098794  ]\n",
            " [0.4800644 ]\n",
            " [0.05818739]\n",
            " [0.09914192]\n",
            " [0.26714095]\n",
            " [0.9100212 ]\n",
            " [0.09200934]\n",
            " [0.08599444]\n",
            " [0.3725907 ]\n",
            " [0.11338446]\n",
            " [0.31291535]\n",
            " [0.1414936 ]\n",
            " [0.67172503]\n",
            " [0.8787243 ]\n",
            " [0.83430266]\n",
            " [0.46839517]\n",
            " [0.33620614]\n",
            " [0.07502603]\n",
            " [0.0553669 ]\n",
            " [0.32374114]\n",
            " [0.83069247]\n",
            " [0.09018544]\n",
            " [0.70364165]\n",
            " [0.49264476]\n",
            " [0.96639854]\n",
            " [0.11341368]\n",
            " [0.35612035]\n",
            " [0.09625516]\n",
            " [0.07069284]\n",
            " [0.07477808]\n",
            " [0.08582547]\n",
            " [0.08157967]\n",
            " [0.8226807 ]\n",
            " [0.10825682]\n",
            " [0.05853351]\n",
            " [0.10830195]\n",
            " [0.5786669 ]\n",
            " [0.89081836]\n",
            " [0.16690375]\n",
            " [0.07503214]\n",
            " [0.12905999]\n",
            " [0.07477806]\n",
            " [0.43987787]\n",
            " [0.13591558]\n",
            " [0.3807964 ]\n",
            " [0.08582547]\n",
            " [0.5977854 ]\n",
            " [0.47526595]\n",
            " [0.09746799]\n",
            " [0.7797132 ]\n",
            " [0.12479687]\n",
            " [0.10077279]\n",
            " [0.11984745]\n",
            " [0.15396942]\n",
            " [0.5426133 ]\n",
            " [0.99742687]\n",
            " [0.4800644 ]\n",
            " [0.61962855]\n",
            " [0.9937563 ]\n",
            " [0.05971398]\n",
            " [0.07456589]\n",
            " [0.35241142]\n",
            " [0.09747565]\n",
            " [0.07514637]\n",
            " [0.38882157]\n",
            " [0.47500685]\n",
            " [0.09747565]\n",
            " [0.30448472]\n",
            " [0.06176225]\n",
            " [0.08769989]\n",
            " [0.6695412 ]\n",
            " [0.08898506]\n",
            " [0.4021531 ]\n",
            " [0.07853648]\n",
            " [0.07029232]\n",
            " [0.17908362]\n",
            " [0.0759404 ]\n",
            " [0.0956945 ]\n",
            " [0.4800644 ]\n",
            " [0.41493425]\n",
            " [0.2299324 ]\n",
            " [0.72071964]\n",
            " [0.304444  ]\n",
            " [0.28405467]\n",
            " [0.12606077]\n",
            " [0.13251185]\n",
            " [0.0747964 ]\n",
            " [0.41754147]\n",
            " [0.91730124]\n",
            " [0.7169492 ]\n",
            " [0.33549237]\n",
            " [0.16935942]\n",
            " [0.08442482]\n",
            " [0.14617416]\n",
            " [0.08758085]\n",
            " [0.11946851]\n",
            " [0.14147142]\n",
            " [0.30928177]\n",
            " [0.555501  ]\n",
            " [0.09827965]\n",
            " [0.55945826]\n",
            " [0.38053203]\n",
            " [0.14748834]\n",
            " [0.16588153]\n",
            " [0.46640724]\n",
            " [0.3765886 ]\n",
            " [0.09746799]\n",
            " [0.49413797]\n",
            " [0.08445927]\n",
            " [0.32199383]\n",
            " [0.11469144]\n",
            " [0.04897788]\n",
            " [0.22915152]\n",
            " [0.09747565]\n",
            " [0.174949  ]\n",
            " [0.07014151]\n",
            " [0.0258246 ]\n",
            " [0.7132373 ]\n",
            " [0.05687381]\n",
            " [0.7006993 ]\n",
            " [0.14147142]\n",
            " [0.44761097]\n",
            " [0.15257354]\n",
            " [0.79856175]\n",
            " [0.8833481 ]\n",
            " [0.13906506]\n",
            " [0.26310647]\n",
            " [0.13286115]\n",
            " [0.99823517]\n",
            " [0.17593771]\n",
            " [0.5176746 ]\n",
            " [0.07501991]\n",
            " [0.08582547]\n",
            " [0.45408055]\n",
            " [0.02988762]\n",
            " [0.7308699 ]\n",
            " [0.79856175]\n",
            " [0.08514803]\n",
            " [0.92766625]\n",
            " [0.14587155]\n",
            " [0.09316442]\n",
            " [0.6863927 ]\n",
            " [0.8804415 ]\n",
            " [0.17928547]\n",
            " [0.13553892]\n",
            " [0.7446683 ]\n",
            " [0.06027418]\n",
            " [0.07442182]\n",
            " [0.6342721 ]\n",
            " [0.55378366]\n",
            " [0.3526267 ]\n",
            " [0.16178648]\n",
            " [0.3201455 ]\n",
            " [0.11581398]\n",
            " [0.08582547]\n",
            " [0.10068572]\n",
            " [0.5032209 ]\n",
            " [0.5156552 ]\n",
            " [0.12179189]\n",
            " [0.53543913]\n",
            " [0.09486416]\n",
            " [0.04672604]\n",
            " [0.12028775]\n",
            " [0.15961608]\n",
            " [0.39003426]\n",
            " [0.7581182 ]\n",
            " [0.26142538]\n",
            " [0.06272626]\n",
            " [0.04673858]\n",
            " [0.88457   ]\n",
            " [0.10731474]\n",
            " [0.77677745]\n",
            " [0.10343035]\n",
            " [0.08341429]\n",
            " [0.5903356 ]\n",
            " [0.09248266]\n",
            " [0.93119335]\n",
            " [0.41232175]\n",
            " [0.26839215]\n",
            " [0.2391375 ]\n",
            " [0.12436923]\n",
            " [0.2920929 ]\n",
            " [0.47983024]\n",
            " [0.9890439 ]\n",
            " [0.4800644 ]\n",
            " [0.89840746]\n",
            " [0.46249154]\n",
            " [0.07514637]\n",
            " [0.9463677 ]\n",
            " [0.05396365]\n",
            " [0.07514641]\n",
            " [0.09091403]]\n"
          ]
        }
      ]
    },
    {
      "cell_type": "markdown",
      "source": [
        "#Writing them to csv file"
      ],
      "metadata": {
        "id": "yLyTfczWspkl"
      }
    },
    {
      "cell_type": "code",
      "source": [
        "#first we apply threshold to predictions (using 0.5)\n",
        "pred_list=[]\n",
        "\n",
        "for val in predictions:\n",
        "  if val>=0.5:\n",
        "    pred_list.append(1)\n",
        "  else:\n",
        "    pred_list.append(0)\n",
        "\n",
        "\n",
        "print(pred_list)"
      ],
      "metadata": {
        "colab": {
          "base_uri": "https://localhost:8080/"
        },
        "id": "D8eH9T0Gl4gN",
        "outputId": "34e34bc9-6d02-4a95-bdc1-c13fcc80bf86"
      },
      "execution_count": 47,
      "outputs": [
        {
          "output_type": "stream",
          "name": "stdout",
          "text": [
            "[0, 0, 0, 0, 0, 0, 0, 0, 1, 0, 0, 0, 1, 0, 1, 1, 0, 0, 0, 0, 0, 1, 1, 0, 0, 0, 1, 0, 0, 0, 0, 0, 0, 0, 0, 0, 0, 1, 0, 0, 0, 0, 0, 1, 1, 0, 0, 0, 1, 0, 0, 0, 1, 1, 0, 0, 0, 0, 0, 1, 0, 0, 0, 1, 1, 1, 1, 0, 0, 0, 1, 0, 0, 0, 1, 0, 0, 0, 0, 1, 0, 0, 0, 0, 0, 0, 1, 1, 0, 1, 0, 0, 1, 0, 0, 0, 1, 0, 1, 0, 1, 0, 0, 0, 1, 0, 0, 0, 0, 0, 0, 0, 1, 1, 1, 0, 0, 1, 0, 1, 1, 0, 1, 0, 0, 1, 0, 0, 0, 0, 0, 0, 0, 0, 0, 0, 0, 0, 1, 0, 0, 1, 0, 0, 0, 0, 0, 0, 0, 0, 1, 0, 0, 0, 0, 0, 1, 1, 0, 0, 0, 0, 1, 0, 0, 0, 0, 0, 1, 1, 0, 0, 0, 0, 0, 1, 1, 0, 0, 1, 0, 0, 1, 0, 1, 0, 1, 0, 0, 0, 0, 0, 0, 0, 0, 0, 1, 1, 0, 0, 1, 1, 0, 1, 0, 0, 0, 0, 1, 0, 0, 0, 0, 0, 0, 0, 0, 0, 1, 0, 1, 0, 1, 0, 1, 0, 0, 0, 0, 0, 0, 1, 0, 0, 0, 0, 0, 0, 1, 1, 1, 0, 0, 0, 0, 0, 1, 0, 1, 0, 1, 0, 0, 0, 0, 0, 0, 0, 1, 0, 0, 0, 1, 1, 0, 0, 0, 0, 0, 0, 0, 0, 1, 0, 0, 1, 0, 0, 0, 0, 1, 1, 0, 1, 1, 0, 0, 0, 0, 0, 0, 0, 0, 0, 0, 0, 1, 0, 0, 0, 0, 0, 0, 0, 0, 0, 0, 1, 0, 0, 0, 0, 0, 0, 1, 1, 0, 0, 0, 0, 0, 0, 0, 0, 1, 0, 1, 0, 0, 0, 0, 0, 0, 0, 0, 0, 0, 0, 0, 0, 0, 0, 0, 1, 0, 1, 0, 0, 0, 1, 1, 0, 0, 0, 1, 0, 1, 0, 0, 0, 0, 1, 1, 0, 1, 0, 0, 1, 1, 0, 0, 1, 0, 0, 1, 1, 0, 0, 0, 0, 0, 0, 1, 1, 0, 1, 0, 0, 0, 0, 0, 1, 0, 0, 0, 1, 0, 1, 0, 0, 1, 0, 1, 0, 0, 0, 0, 0, 0, 1, 0, 1, 0, 0, 1, 0, 0, 0]\n"
          ]
        }
      ]
    },
    {
      "cell_type": "code",
      "source": [
        "data={\n",
        "    'PassengerId':test_df['PassengerId'],\n",
        "    'Survived':pred_list\n",
        "}\n",
        "\n",
        "new_df=pd.DataFrame(data)\n",
        "\n",
        "#print(new_df)\n",
        "new_df.head()"
      ],
      "metadata": {
        "colab": {
          "base_uri": "https://localhost:8080/",
          "height": 206
        },
        "id": "yNAYGguXtmwo",
        "outputId": "25f6bd6b-8126-4771-d10c-0563608a0c2b"
      },
      "execution_count": 50,
      "outputs": [
        {
          "output_type": "execute_result",
          "data": {
            "text/plain": [
              "   PassengerId  Survived\n",
              "0          892         0\n",
              "1          893         0\n",
              "2          894         0\n",
              "3          895         0\n",
              "4          896         0"
            ],
            "text/html": [
              "\n",
              "  <div id=\"df-b7d8a1dd-98d0-4010-b96b-1d251ab99b5b\" class=\"colab-df-container\">\n",
              "    <div>\n",
              "<style scoped>\n",
              "    .dataframe tbody tr th:only-of-type {\n",
              "        vertical-align: middle;\n",
              "    }\n",
              "\n",
              "    .dataframe tbody tr th {\n",
              "        vertical-align: top;\n",
              "    }\n",
              "\n",
              "    .dataframe thead th {\n",
              "        text-align: right;\n",
              "    }\n",
              "</style>\n",
              "<table border=\"1\" class=\"dataframe\">\n",
              "  <thead>\n",
              "    <tr style=\"text-align: right;\">\n",
              "      <th></th>\n",
              "      <th>PassengerId</th>\n",
              "      <th>Survived</th>\n",
              "    </tr>\n",
              "  </thead>\n",
              "  <tbody>\n",
              "    <tr>\n",
              "      <th>0</th>\n",
              "      <td>892</td>\n",
              "      <td>0</td>\n",
              "    </tr>\n",
              "    <tr>\n",
              "      <th>1</th>\n",
              "      <td>893</td>\n",
              "      <td>0</td>\n",
              "    </tr>\n",
              "    <tr>\n",
              "      <th>2</th>\n",
              "      <td>894</td>\n",
              "      <td>0</td>\n",
              "    </tr>\n",
              "    <tr>\n",
              "      <th>3</th>\n",
              "      <td>895</td>\n",
              "      <td>0</td>\n",
              "    </tr>\n",
              "    <tr>\n",
              "      <th>4</th>\n",
              "      <td>896</td>\n",
              "      <td>0</td>\n",
              "    </tr>\n",
              "  </tbody>\n",
              "</table>\n",
              "</div>\n",
              "    <div class=\"colab-df-buttons\">\n",
              "\n",
              "  <div class=\"colab-df-container\">\n",
              "    <button class=\"colab-df-convert\" onclick=\"convertToInteractive('df-b7d8a1dd-98d0-4010-b96b-1d251ab99b5b')\"\n",
              "            title=\"Convert this dataframe to an interactive table.\"\n",
              "            style=\"display:none;\">\n",
              "\n",
              "  <svg xmlns=\"http://www.w3.org/2000/svg\" height=\"24px\" viewBox=\"0 -960 960 960\">\n",
              "    <path d=\"M120-120v-720h720v720H120Zm60-500h600v-160H180v160Zm220 220h160v-160H400v160Zm0 220h160v-160H400v160ZM180-400h160v-160H180v160Zm440 0h160v-160H620v160ZM180-180h160v-160H180v160Zm440 0h160v-160H620v160Z\"/>\n",
              "  </svg>\n",
              "    </button>\n",
              "\n",
              "  <style>\n",
              "    .colab-df-container {\n",
              "      display:flex;\n",
              "      gap: 12px;\n",
              "    }\n",
              "\n",
              "    .colab-df-convert {\n",
              "      background-color: #E8F0FE;\n",
              "      border: none;\n",
              "      border-radius: 50%;\n",
              "      cursor: pointer;\n",
              "      display: none;\n",
              "      fill: #1967D2;\n",
              "      height: 32px;\n",
              "      padding: 0 0 0 0;\n",
              "      width: 32px;\n",
              "    }\n",
              "\n",
              "    .colab-df-convert:hover {\n",
              "      background-color: #E2EBFA;\n",
              "      box-shadow: 0px 1px 2px rgba(60, 64, 67, 0.3), 0px 1px 3px 1px rgba(60, 64, 67, 0.15);\n",
              "      fill: #174EA6;\n",
              "    }\n",
              "\n",
              "    .colab-df-buttons div {\n",
              "      margin-bottom: 4px;\n",
              "    }\n",
              "\n",
              "    [theme=dark] .colab-df-convert {\n",
              "      background-color: #3B4455;\n",
              "      fill: #D2E3FC;\n",
              "    }\n",
              "\n",
              "    [theme=dark] .colab-df-convert:hover {\n",
              "      background-color: #434B5C;\n",
              "      box-shadow: 0px 1px 3px 1px rgba(0, 0, 0, 0.15);\n",
              "      filter: drop-shadow(0px 1px 2px rgba(0, 0, 0, 0.3));\n",
              "      fill: #FFFFFF;\n",
              "    }\n",
              "  </style>\n",
              "\n",
              "    <script>\n",
              "      const buttonEl =\n",
              "        document.querySelector('#df-b7d8a1dd-98d0-4010-b96b-1d251ab99b5b button.colab-df-convert');\n",
              "      buttonEl.style.display =\n",
              "        google.colab.kernel.accessAllowed ? 'block' : 'none';\n",
              "\n",
              "      async function convertToInteractive(key) {\n",
              "        const element = document.querySelector('#df-b7d8a1dd-98d0-4010-b96b-1d251ab99b5b');\n",
              "        const dataTable =\n",
              "          await google.colab.kernel.invokeFunction('convertToInteractive',\n",
              "                                                    [key], {});\n",
              "        if (!dataTable) return;\n",
              "\n",
              "        const docLinkHtml = 'Like what you see? Visit the ' +\n",
              "          '<a target=\"_blank\" href=https://colab.research.google.com/notebooks/data_table.ipynb>data table notebook</a>'\n",
              "          + ' to learn more about interactive tables.';\n",
              "        element.innerHTML = '';\n",
              "        dataTable['output_type'] = 'display_data';\n",
              "        await google.colab.output.renderOutput(dataTable, element);\n",
              "        const docLink = document.createElement('div');\n",
              "        docLink.innerHTML = docLinkHtml;\n",
              "        element.appendChild(docLink);\n",
              "      }\n",
              "    </script>\n",
              "  </div>\n",
              "\n",
              "\n",
              "<div id=\"df-3bad1844-91b4-43da-a340-6bb154047f51\">\n",
              "  <button class=\"colab-df-quickchart\" onclick=\"quickchart('df-3bad1844-91b4-43da-a340-6bb154047f51')\"\n",
              "            title=\"Suggest charts\"\n",
              "            style=\"display:none;\">\n",
              "\n",
              "<svg xmlns=\"http://www.w3.org/2000/svg\" height=\"24px\"viewBox=\"0 0 24 24\"\n",
              "     width=\"24px\">\n",
              "    <g>\n",
              "        <path d=\"M19 3H5c-1.1 0-2 .9-2 2v14c0 1.1.9 2 2 2h14c1.1 0 2-.9 2-2V5c0-1.1-.9-2-2-2zM9 17H7v-7h2v7zm4 0h-2V7h2v10zm4 0h-2v-4h2v4z\"/>\n",
              "    </g>\n",
              "</svg>\n",
              "  </button>\n",
              "\n",
              "<style>\n",
              "  .colab-df-quickchart {\n",
              "      --bg-color: #E8F0FE;\n",
              "      --fill-color: #1967D2;\n",
              "      --hover-bg-color: #E2EBFA;\n",
              "      --hover-fill-color: #174EA6;\n",
              "      --disabled-fill-color: #AAA;\n",
              "      --disabled-bg-color: #DDD;\n",
              "  }\n",
              "\n",
              "  [theme=dark] .colab-df-quickchart {\n",
              "      --bg-color: #3B4455;\n",
              "      --fill-color: #D2E3FC;\n",
              "      --hover-bg-color: #434B5C;\n",
              "      --hover-fill-color: #FFFFFF;\n",
              "      --disabled-bg-color: #3B4455;\n",
              "      --disabled-fill-color: #666;\n",
              "  }\n",
              "\n",
              "  .colab-df-quickchart {\n",
              "    background-color: var(--bg-color);\n",
              "    border: none;\n",
              "    border-radius: 50%;\n",
              "    cursor: pointer;\n",
              "    display: none;\n",
              "    fill: var(--fill-color);\n",
              "    height: 32px;\n",
              "    padding: 0;\n",
              "    width: 32px;\n",
              "  }\n",
              "\n",
              "  .colab-df-quickchart:hover {\n",
              "    background-color: var(--hover-bg-color);\n",
              "    box-shadow: 0 1px 2px rgba(60, 64, 67, 0.3), 0 1px 3px 1px rgba(60, 64, 67, 0.15);\n",
              "    fill: var(--button-hover-fill-color);\n",
              "  }\n",
              "\n",
              "  .colab-df-quickchart-complete:disabled,\n",
              "  .colab-df-quickchart-complete:disabled:hover {\n",
              "    background-color: var(--disabled-bg-color);\n",
              "    fill: var(--disabled-fill-color);\n",
              "    box-shadow: none;\n",
              "  }\n",
              "\n",
              "  .colab-df-spinner {\n",
              "    border: 2px solid var(--fill-color);\n",
              "    border-color: transparent;\n",
              "    border-bottom-color: var(--fill-color);\n",
              "    animation:\n",
              "      spin 1s steps(1) infinite;\n",
              "  }\n",
              "\n",
              "  @keyframes spin {\n",
              "    0% {\n",
              "      border-color: transparent;\n",
              "      border-bottom-color: var(--fill-color);\n",
              "      border-left-color: var(--fill-color);\n",
              "    }\n",
              "    20% {\n",
              "      border-color: transparent;\n",
              "      border-left-color: var(--fill-color);\n",
              "      border-top-color: var(--fill-color);\n",
              "    }\n",
              "    30% {\n",
              "      border-color: transparent;\n",
              "      border-left-color: var(--fill-color);\n",
              "      border-top-color: var(--fill-color);\n",
              "      border-right-color: var(--fill-color);\n",
              "    }\n",
              "    40% {\n",
              "      border-color: transparent;\n",
              "      border-right-color: var(--fill-color);\n",
              "      border-top-color: var(--fill-color);\n",
              "    }\n",
              "    60% {\n",
              "      border-color: transparent;\n",
              "      border-right-color: var(--fill-color);\n",
              "    }\n",
              "    80% {\n",
              "      border-color: transparent;\n",
              "      border-right-color: var(--fill-color);\n",
              "      border-bottom-color: var(--fill-color);\n",
              "    }\n",
              "    90% {\n",
              "      border-color: transparent;\n",
              "      border-bottom-color: var(--fill-color);\n",
              "    }\n",
              "  }\n",
              "</style>\n",
              "\n",
              "  <script>\n",
              "    async function quickchart(key) {\n",
              "      const quickchartButtonEl =\n",
              "        document.querySelector('#' + key + ' button');\n",
              "      quickchartButtonEl.disabled = true;  // To prevent multiple clicks.\n",
              "      quickchartButtonEl.classList.add('colab-df-spinner');\n",
              "      try {\n",
              "        const charts = await google.colab.kernel.invokeFunction(\n",
              "            'suggestCharts', [key], {});\n",
              "      } catch (error) {\n",
              "        console.error('Error during call to suggestCharts:', error);\n",
              "      }\n",
              "      quickchartButtonEl.classList.remove('colab-df-spinner');\n",
              "      quickchartButtonEl.classList.add('colab-df-quickchart-complete');\n",
              "    }\n",
              "    (() => {\n",
              "      let quickchartButtonEl =\n",
              "        document.querySelector('#df-3bad1844-91b4-43da-a340-6bb154047f51 button');\n",
              "      quickchartButtonEl.style.display =\n",
              "        google.colab.kernel.accessAllowed ? 'block' : 'none';\n",
              "    })();\n",
              "  </script>\n",
              "</div>\n",
              "    </div>\n",
              "  </div>\n"
            ],
            "application/vnd.google.colaboratory.intrinsic+json": {
              "type": "dataframe",
              "variable_name": "new_df",
              "summary": "{\n  \"name\": \"new_df\",\n  \"rows\": 418,\n  \"fields\": [\n    {\n      \"column\": \"PassengerId\",\n      \"properties\": {\n        \"dtype\": \"number\",\n        \"std\": 120,\n        \"min\": 892,\n        \"max\": 1309,\n        \"num_unique_values\": 418,\n        \"samples\": [\n          1213,\n          1216,\n          1280\n        ],\n        \"semantic_type\": \"\",\n        \"description\": \"\"\n      }\n    },\n    {\n      \"column\": \"Survived\",\n      \"properties\": {\n        \"dtype\": \"number\",\n        \"std\": 0,\n        \"min\": 0,\n        \"max\": 1,\n        \"num_unique_values\": 2,\n        \"samples\": [\n          1,\n          0\n        ],\n        \"semantic_type\": \"\",\n        \"description\": \"\"\n      }\n    }\n  ]\n}"
            }
          },
          "metadata": {},
          "execution_count": 50
        }
      ]
    },
    {
      "cell_type": "code",
      "source": [
        "new_df.to_csv(\"submission.csv\", index=False)"
      ],
      "metadata": {
        "id": "DPSsU_aZuD5O"
      },
      "execution_count": 51,
      "outputs": []
    },
    {
      "cell_type": "code",
      "source": [],
      "metadata": {
        "id": "V0Mo9MHzuUXy"
      },
      "execution_count": null,
      "outputs": []
    }
  ]
}